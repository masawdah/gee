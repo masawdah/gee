{
 "cells": [
  {
   "cell_type": "code",
   "execution_count": 1,
   "id": "d6452551-3466-4d37-bd03-256c51fd7d13",
   "metadata": {
    "tags": []
   },
   "outputs": [
    {
     "name": "stdout",
     "output_type": "stream",
     "text": [
      "test branch\n"
     ]
    }
   ],
   "source": [
    "print('test branch')"
   ]
  },
  {
   "cell_type": "code",
   "execution_count": null,
   "id": "30cf7111-58f8-4ef0-89eb-7bb6fdb8e4ab",
   "metadata": {},
   "outputs": [],
   "source": []
  }
 ],
 "metadata": {
  "kernelspec": {
   "display_name": "Python 3 (ipykernel)",
   "language": "python",
   "name": "python3"
  },
  "language_info": {
   "codemirror_mode": {
    "name": "ipython",
    "version": 3
   },
   "file_extension": ".py",
   "mimetype": "text/x-python",
   "name": "python",
   "nbconvert_exporter": "python",
   "pygments_lexer": "ipython3",
   "version": "3.8.16"
  }
 },
 "nbformat": 4,
 "nbformat_minor": 5
}
